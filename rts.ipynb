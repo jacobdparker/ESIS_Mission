{
 "cells": [
  {
   "cell_type": "markdown",
   "metadata": {},
   "source": [
    "# ESIS Mission Paper"
   ]
  },
  {
   "cell_type": "code",
   "execution_count": 1,
   "metadata": {},
   "outputs": [
    {
     "name": "stdout",
     "output_type": "stream",
     "text": [
      " ChiantiPy version 0.11.0 \n",
      " found PyQt5 widgets\n",
      " using PyQt5 widgets\n"
     ]
    }
   ],
   "source": [
    "import matplotlib.pyplot as plt\n",
    "import astropy.units as u\n",
    "import pylatex\n",
    "import kgpy.format\n",
    "import esis\n",
    "import numpy as np"
   ]
  },
  {
   "cell_type": "code",
   "execution_count": 2,
   "metadata": {},
   "outputs": [],
   "source": [
    "%matplotlib inline\n",
    "%reload_ext autoreload\n",
    "%autoreload 2"
   ]
  },
  {
   "cell_type": "code",
   "execution_count": 3,
   "metadata": {},
   "outputs": [],
   "source": [
    "plt.rcParams['axes.labelsize'] = 9\n",
    "plt.rcParams['xtick.labelsize'] = 9\n",
    "plt.rcParams['ytick.labelsize'] = 9\n",
    "plt.rcParams['legend.fontsize'] = 9"
   ]
  },
  {
   "cell_type": "code",
   "execution_count": 4,
   "metadata": {},
   "outputs": [],
   "source": [
    "fig_width = 7.1"
   ]
  },
  {
   "cell_type": "code",
   "execution_count": 5,
   "metadata": {},
   "outputs": [],
   "source": [
    "esis_optics_design = esis.optics.design.final(all_channels=False)"
   ]
  },
  {
   "cell_type": "code",
   "execution_count": 6,
   "metadata": {},
   "outputs": [],
   "source": [
    "esis_optics = esis.flight.optics.as_measured(\n",
    "    field_samples=3,\n",
    "    pupil_samples=3,\n",
    ")"
   ]
  },
  {
   "cell_type": "code",
   "execution_count": 7,
   "metadata": {
    "scrolled": false
   },
   "outputs": [
    {
     "name": "stderr",
     "output_type": "stream",
     "text": [
      "/home/jake/anaconda3/lib/python3.8/site-packages/astropy/units/quantity.py:477: RuntimeWarning: invalid value encountered in sqrt\n",
      "  result = super().__array_ufunc__(function, method, *arrays, **kwargs)\n",
      "/home/jake/anaconda3/lib/python3.8/site-packages/astropy/units/quantity.py:477: RuntimeWarning: divide by zero encountered in true_divide\n",
      "  result = super().__array_ufunc__(function, method, *arrays, **kwargs)\n",
      "/media/jake/Media/Documents/Research/Kankelborg Group/kgpy/kgpy/vector.py:339: RuntimeWarning: Mean of empty slice\n",
      "  x=self.x.__array_function__(function, types_x, args_x, kwargs_x),\n",
      "/media/jake/Media/Documents/Research/Kankelborg Group/kgpy/kgpy/vector.py:340: RuntimeWarning: Mean of empty slice\n",
      "  y=self.y.__array_function__(function, types_y, args_y, kwargs_y),\n",
      "/media/jake/Media/Documents/Research/Kankelborg Group/kgpy/kgpy/vector.py:622: RuntimeWarning: Mean of empty slice\n",
      "  result.z = self.z.__array_function__(function, types_z, args_z, kwargs_z)\n"
     ]
    },
    {
     "ename": "IndexError",
     "evalue": "list index out of range",
     "output_type": "error",
     "traceback": [
      "\u001B[0;31m---------------------------------------------------------------------------\u001B[0m",
      "\u001B[0;31mIndexError\u001B[0m                                Traceback (most recent call last)",
      "\u001B[0;32m<ipython-input-7-b53975b4c4b1>\u001B[0m in \u001B[0;36m<module>\u001B[0;34m\u001B[0m\n\u001B[1;32m      1\u001B[0m \u001B[0mfig_layout\u001B[0m\u001B[0;34m,\u001B[0m \u001B[0max_layout\u001B[0m \u001B[0;34m=\u001B[0m \u001B[0mplt\u001B[0m\u001B[0;34m.\u001B[0m\u001B[0msubplots\u001B[0m\u001B[0;34m(\u001B[0m\u001B[0mfigsize\u001B[0m\u001B[0;34m=\u001B[0m\u001B[0;34m(\u001B[0m\u001B[0mfig_width\u001B[0m\u001B[0;34m,\u001B[0m \u001B[0;36m4.2\u001B[0m\u001B[0;34m)\u001B[0m\u001B[0;34m,\u001B[0m \u001B[0mconstrained_layout\u001B[0m\u001B[0;34m=\u001B[0m\u001B[0;32mTrue\u001B[0m\u001B[0;34m)\u001B[0m\u001B[0;34m\u001B[0m\u001B[0;34m\u001B[0m\u001B[0m\n\u001B[1;32m      2\u001B[0m \u001B[0max_layout\u001B[0m\u001B[0;34m.\u001B[0m\u001B[0mset_axis_off\u001B[0m\u001B[0;34m(\u001B[0m\u001B[0;34m)\u001B[0m\u001B[0;34m\u001B[0m\u001B[0;34m\u001B[0m\u001B[0m\n\u001B[0;32m----> 3\u001B[0;31m esis_optics.plot_field_stop_projections(\n\u001B[0m\u001B[1;32m      4\u001B[0m     \u001B[0max\u001B[0m\u001B[0;34m=\u001B[0m\u001B[0max_layout\u001B[0m\u001B[0;34m,\u001B[0m\u001B[0;34m\u001B[0m\u001B[0;34m\u001B[0m\u001B[0m\n\u001B[1;32m      5\u001B[0m     \u001B[0mwavelength_color\u001B[0m\u001B[0;34m=\u001B[0m \u001B[0;34m[\u001B[0m\u001B[0;34m'r'\u001B[0m\u001B[0;34m,\u001B[0m \u001B[0;34m'g'\u001B[0m\u001B[0;34m,\u001B[0m \u001B[0;34m'b'\u001B[0m\u001B[0;34m]\u001B[0m\u001B[0;34m,\u001B[0m\u001B[0;34m\u001B[0m\u001B[0;34m\u001B[0m\u001B[0m\n",
      "\u001B[0;32m/media/jake/Media/Documents/Research/Kankelborg Group/ESIS/esis/optics/optics.py\u001B[0m in \u001B[0;36mplot_field_stop_projections\u001B[0;34m(self, ax, wavelength_color)\u001B[0m\n\u001B[1;32m   1873\u001B[0m                         \u001B[0mwire\u001B[0m\u001B[0;34m.\u001B[0m\u001B[0mx\u001B[0m\u001B[0;34m[\u001B[0m\u001B[0mi\u001B[0m\u001B[0;34m,\u001B[0m \u001B[0;34m...\u001B[0m\u001B[0;34m,\u001B[0m \u001B[0mw\u001B[0m\u001B[0;34m]\u001B[0m\u001B[0;34m,\u001B[0m\u001B[0;34m\u001B[0m\u001B[0;34m\u001B[0m\u001B[0m\n\u001B[1;32m   1874\u001B[0m                         \u001B[0mwire\u001B[0m\u001B[0;34m.\u001B[0m\u001B[0my\u001B[0m\u001B[0;34m[\u001B[0m\u001B[0mi\u001B[0m\u001B[0;34m,\u001B[0m \u001B[0;34m...\u001B[0m\u001B[0;34m,\u001B[0m \u001B[0mw\u001B[0m\u001B[0;34m]\u001B[0m\u001B[0;34m,\u001B[0m\u001B[0;34m\u001B[0m\u001B[0;34m\u001B[0m\u001B[0m\n\u001B[0;32m-> 1875\u001B[0;31m                         \u001B[0mcolor\u001B[0m\u001B[0;34m=\u001B[0m\u001B[0mwavelength_color\u001B[0m\u001B[0;34m[\u001B[0m\u001B[0mw\u001B[0m\u001B[0;34m]\u001B[0m\u001B[0;34m,\u001B[0m\u001B[0;34m\u001B[0m\u001B[0;34m\u001B[0m\u001B[0m\n\u001B[0m\u001B[1;32m   1876\u001B[0m                         \u001B[0;34m**\u001B[0m\u001B[0mlabel_kwarg\u001B[0m\u001B[0;34m,\u001B[0m\u001B[0;34m\u001B[0m\u001B[0;34m\u001B[0m\u001B[0m\n\u001B[1;32m   1877\u001B[0m                     )\n",
      "\u001B[0;31mIndexError\u001B[0m: list index out of range"
     ]
    },
    {
     "data": {
      "text/plain": "<Figure size 511.2x302.4 with 1 Axes>",
      "image/png": "[encoded data removed]"
     },
     "metadata": {
      "needs_background": "light"
     },
     "output_type": "display_data"
    }
   ],
   "source": [
    "fig_layout, ax_layout = plt.subplots(figsize=(fig_width, 4.2), constrained_layout=True)\n",
    "ax_layout.set_axis_off()\n",
    "esis_optics.plot_field_stop_projections(\n",
    "    ax=ax_layout,\n",
    "    wavelength_color= ['r', 'g', 'b'],\n",
    ")\n",
    "ax_layout.set_aspect('equal')\n",
    "ax_layout.legend()\n",
    "ax_layout.annotate('Field Stop (Inverted Image)',(0,-10), ha='center')\n",
    "\n",
    "r = 57\n",
    "degs = np.array([67.5,22.5,-22.5,-67.5]) + 90\n",
    "chs = ['Ch 4', 'Ch 3', 'Ch 2', 'Ch 1']\n",
    "\n",
    "for i,deg in enumerate(degs):\n",
    "    x = r*np.cos(np.deg2rad(deg))\n",
    "    y = r*np.sin(np.deg2rad(deg))\n",
    "    ax_layout.annotate(chs[i],(x,y),ha='center', va='center')\n",
    "fig_layout.savefig('figures/detector_layout.pdf')"
   ]
  },
  {
   "cell_type": "code",
   "execution_count": null,
   "metadata": {},
   "outputs": [],
   "source": [
    "level_0 = esis.flight.level_0()"
   ]
  },
  {
   "cell_type": "code",
   "execution_count": null,
   "metadata": {},
   "outputs": [],
   "source": [
    "level_1 = esis.flight.level_1()"
   ]
  },
  {
   "cell_type": "code",
   "execution_count": null,
   "metadata": {
    "scrolled": false
   },
   "outputs": [],
   "source": [
    "fig_sig_and_alt, ax_altitude = plt.subplots(figsize=(fig_width,3.5), constrained_layout=True)\n",
    "level_0.add_index_axis_to_time_axis(ax_altitude);\n",
    "ax_signal = level_0.plot_altitude_and_signal_vs_time(ax=ax_altitude);\n",
    "# level_0.timeline.t0.plot(ax=ax_signal, time_start=level_0.time_start)\n",
    "level_0.timeline.shutter_door_open.plot(ax=ax_signal, time_start=level_0.time_mission_start);\n",
    "level_0.timeline.shutter_door_close.plot(ax=ax_signal, time_start=level_0.time_mission_start);\n",
    "level_0.plot_dark_spans(ax=ax_signal)\n",
    "level_0.plot_signal_span(ax=ax_signal)\n",
    "fig_sig_and_alt.legend(loc='upper right', bbox_to_anchor=(1, 1), bbox_transform=ax_altitude.transAxes)\n",
    "fig_sig_and_alt.savefig('figures/signal_and_altitude_vs_time.pdf')"
   ]
  },
  {
   "cell_type": "code",
   "execution_count": null,
   "metadata": {},
   "outputs": [],
   "source": [
    "default_channel_index=1\n",
    "fig_l1, axs_l1 = plt.subplots(\n",
    "    nrows=2,\n",
    "#     sharex=True,\n",
    "#     sharey=True,\n",
    "    figsize=(fig_width, 6.5), \n",
    "    constrained_layout=True,\n",
    ");\n",
    "level_0.plot_intensity_channel(\n",
    "    ax=axs_l1[0],\n",
    "    time_index=level_0.index_apogee,\n",
    "    channel_index=default_channel_index,\n",
    ");\n",
    "axs_l1[0].set_xlabel(None);\n",
    "level_0.plot_channel_from_data(\n",
    "    data=level_0.intensity_electrons,\n",
    "    ax=axs_l1[1],\n",
    "    time_index=level_0.index_apogee,\n",
    "    channel_index=default_channel_index,\n",
    ");\n",
    "axs_l1[1].set_title(None);\n",
    "fig_l1.savefig('figures/L0_to_L1.pdf')"
   ]
  },
  {
   "cell_type": "code",
   "execution_count": null,
   "metadata": {},
   "outputs": [],
   "source": [
    "class BasicContainer(pylatex.base_classes.Container):\n",
    "    def dumps(self):\n",
    "        result = ''\n",
    "        for item in self:\n",
    "            result = result + item.dumps() + '\\n'\n",
    "        return result"
   ]
  },
  {
   "cell_type": "code",
   "execution_count": null,
   "metadata": {},
   "outputs": [],
   "source": [
    "def new_variable(name:str, value: str):\n",
    "    return pylatex.Command('newcommand', [pylatex.NoEscape('\\\\' + name), pylatex.NoEscape(value)])"
   ]
  },
  {
   "cell_type": "code",
   "execution_count": null,
   "metadata": {},
   "outputs": [],
   "source": [
    "doc = BasicContainer()\n",
    "doc.append(new_variable('defaultChannel', str(int(level_0.channel[default_channel_index].value))))\n",
    "doc.append(new_variable('dateMission', level_0.time_mission_start.strftime('%B %d, %Y')))\n",
    "doc.append(new_variable('timeMissionStart', level_0.time_mission_start.strftime('%H:%M:%S')))\n",
    "doc.append(new_variable('timeShutterOpen', level_0.time_shutter_open.strftime('%H:%M:%S')))\n",
    "doc.append(new_variable('timeMissionShutterOpen', level_0.timeline.shutter_door_open.time_mission))\n",
    "doc.append(new_variable('timeShutterClose', level_0.time_shutter_close.strftime('%H:%M:%S')))\n",
    "doc.append(new_variable('timeMissionShutterClose', level_0.timeline.shutter_door_close.time_mission))\n",
    "doc.append(new_variable('timeRlgEnable', level_0.time_rlg_enable.strftime('%H:%M:%S')))\n",
    "doc.append(new_variable('timeMissionRlgEnable', level_0.timeline.sparcs_rlg_enable.time_mission))\n",
    "doc.append(new_variable('timeRlgDisable', level_0.time_rlg_disable.strftime('%H:%M:%S')))\n",
    "doc.append(new_variable('timeParachuteDeploy', level_0.time_parachute_deploy.strftime('%H:%M:%S')))\n",
    "doc.append(new_variable('timeDataStart', level_0.time_exp_start[0].min().strftime('%H:%M:%S')))\n",
    "doc.append(new_variable('timeDataStop', level_0.time_exp_end[~0].max().strftime('%H:%M:%S')))\n",
    "doc.append(new_variable('timeLightStart', level_0.time_exp_start[level_0.index_signal_first].min().strftime('%H:%M:%S')))\n",
    "doc.append(new_variable('timeLightStop', level_0.time_exp_end[level_0.index_signal_last].max().strftime('%H:%M:%S')))\n",
    "doc.append(new_variable('timeApogee', level_0.trajectory.time_apogee.strftime('%H:%M:%S')))\n",
    "doc.append(new_variable('timeApogeeFrame', level_0.time_apogee.min().strftime('%H:%M:%S')))\n",
    "doc.append(new_variable('numDataFrames', level_0.intensity[level_0.slice_signal].shape[0]))\n",
    "doc.append(new_variable('numDarkFrames', level_0.darks.shape[0]))\n",
    "doc.append(new_variable('imageShape', level_1.intensity.shape[~1:]))\n",
    "doc.append(new_variable('fov', kgpy.format.quantity((2 * esis_optics.source.half_width_x).to(u.arcmin), digits_after_decimal=1)))\n",
    "doc.append(new_variable('gain', '{0:0.2f}'.format(esis_optics.detector.gain.mean().value) + r'$\\pm$' + kgpy.format.quantity(esis_optics.detector.gain.std(), digits_after_decimal=2)))\n",
    "doc.append(new_variable('readoutNoise', '{0:0.2f}'.format(esis_optics.detector.readout_noise.mean().value) + r'$\\pm$' + kgpy.format.quantity(esis_optics.detector.readout_noise.std(), digits_after_decimal=2)))\n",
    "doc.append(new_variable('plateScale', kgpy.format.quantity(esis_optics_design.plate_scale.quantity, digits_after_decimal=2)))\n",
    "doc.append(new_variable('dispersion', kgpy.format.quantity(esis_optics_design.dispersion, digits_after_decimal=3)))\n",
    "doc.generate_tex('variables_rts')"
   ]
  },
  {
   "cell_type": "code",
   "execution_count": null,
   "metadata": {},
   "outputs": [],
   "source": [
    "level_0.time_mission_start"
   ]
  },
  {
   "cell_type": "code",
   "execution_count": null,
   "metadata": {},
   "outputs": [],
   "source": [
    "level_0.time_exp_start[0].min().to_value('isot')"
   ]
  },
  {
   "cell_type": "code",
   "execution_count": null,
   "metadata": {
    "pycharm": {
     "name": "#%%\n"
    }
   },
   "outputs": [],
   "source": [
    "esis_optics_design.plate_scale.quantity"
   ]
  },
  {
   "cell_type": "code",
   "execution_count": null,
   "outputs": [],
   "source": [
    "level_0._offset_optimized\n",
    "\n"
   ],
   "metadata": {
    "collapsed": false,
    "pycharm": {
     "name": "#%%\n"
    }
   }
  }
 ],
 "metadata": {
  "kernelspec": {
   "display_name": "Python 3",
   "language": "python",
   "name": "python3"
  },
  "language_info": {
   "codemirror_mode": {
    "name": "ipython",
    "version": 3
   },
   "file_extension": ".py",
   "mimetype": "text/x-python",
   "name": "python",
   "nbconvert_exporter": "python",
   "pygments_lexer": "ipython3",
   "version": "3.8.1"
  }
 },
 "nbformat": 4,
 "nbformat_minor": 1
}